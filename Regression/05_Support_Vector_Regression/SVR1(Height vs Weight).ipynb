{
 "cells": [
  {
   "cell_type": "code",
   "execution_count": 1,
   "id": "ff8f98e4",
   "metadata": {},
   "outputs": [],
   "source": [
    "import pandas as pd\n",
    "import numpy as np\n",
    "import matplotlib.pyplot as plt"
   ]
  },
  {
   "cell_type": "code",
   "execution_count": 3,
   "id": "c8dd229a",
   "metadata": {},
   "outputs": [],
   "source": [
    "data = pd.read_csv(r'C:\\Users\\sisir.sahu\\Self Learning2\\Machine Learning\\Kaggle Practice\\5. SVR\\HeightVsWeight.csv')\n"
   ]
  },
  {
   "cell_type": "code",
   "execution_count": 4,
   "id": "aeacf7c8",
   "metadata": {},
   "outputs": [],
   "source": [
    "#split data into x and y\n",
    "x = data.loc[:, 'Age'].values\n",
    "y = data.loc[:, 'Height'].values"
   ]
  },
  {
   "cell_type": "code",
   "execution_count": 5,
   "id": "56279046",
   "metadata": {},
   "outputs": [],
   "source": [
    "#train test data\n",
    "from sklearn.model_selection import train_test_split\n",
    "x_train, x_test, y_train, y_test = train_test_split(x, y, test_size = 0.2, random_state = 42)"
   ]
  },
  {
   "cell_type": "code",
   "execution_count": 6,
   "id": "367800c0",
   "metadata": {},
   "outputs": [],
   "source": [
    "#scale the train dataset\n",
    "from sklearn.preprocessing import StandardScaler\n",
    "sc_x = StandardScaler()\n",
    "x_train = sc_x.fit_transform(x_train.reshape(-1, 1))\n",
    "x_test = sc_x.transform(x_test.reshape(-1, 1))\n",
    "sc_y = StandardScaler()\n",
    "y_train = sc_y.fit_transform(y_train.reshape(-1, 1))"
   ]
  },
  {
   "cell_type": "code",
   "execution_count": 20,
   "id": "4d720e05",
   "metadata": {},
   "outputs": [
    {
     "data": {
      "text/plain": [
       "SVR()"
      ]
     },
     "execution_count": 20,
     "metadata": {},
     "output_type": "execute_result"
    }
   ],
   "source": [
    "#import svr \n",
    "from sklearn.svm import SVR\n",
    "reg = SVR(kernel = 'rbf')\n",
    "reg.fit(x_train, y_train.ravel()) # ravel() is used to convert height from a column vector to a 1D array"
   ]
  },
  {
   "cell_type": "code",
   "execution_count": 21,
   "id": "cac54705",
   "metadata": {},
   "outputs": [],
   "source": [
    "y_pred = reg.predict(x_test)"
   ]
  },
  {
   "cell_type": "code",
   "execution_count": 22,
   "id": "9b03c973",
   "metadata": {},
   "outputs": [
    {
     "data": {
      "text/plain": [
       "array([[32.],\n",
       "       [10.],\n",
       "       [59.],\n",
       "       [14.],\n",
       "       [65.],\n",
       "       [28.],\n",
       "       [20.],\n",
       "       [43.],\n",
       "       [56.],\n",
       "       [22.],\n",
       "       [41.],\n",
       "       [19.],\n",
       "       [71.],\n",
       "       [15.],\n",
       "       [63.]])"
      ]
     },
     "execution_count": 22,
     "metadata": {},
     "output_type": "execute_result"
    }
   ],
   "source": [
    "sc_x.inverse_transform(x_test)"
   ]
  },
  {
   "cell_type": "code",
   "execution_count": 30,
   "id": "abe5ed7a",
   "metadata": {},
   "outputs": [
    {
     "data": {
      "text/plain": [
       "array([[146.71],\n",
       "       [140.76],\n",
       "       [167.37],\n",
       "       [139.86],\n",
       "       [177.98],\n",
       "       [144.44],\n",
       "       [140.79],\n",
       "       [153.81],\n",
       "       [163.69],\n",
       "       [141.53],\n",
       "       [152.47],\n",
       "       [140.49],\n",
       "       [191.54],\n",
       "       [139.85],\n",
       "       [173.97]])"
      ]
     },
     "execution_count": 30,
     "metadata": {},
     "output_type": "execute_result"
    }
   ],
   "source": [
    "sc_y.inverse_transform(reg.predict(x_test).reshape(-1, 1))"
   ]
  },
  {
   "cell_type": "code",
   "execution_count": 24,
   "id": "721cee14",
   "metadata": {},
   "outputs": [
    {
     "data": {
      "image/png": "[encoded data removed]",
      "text/plain": [
       "<Figure size 432x288 with 1 Axes>"
      ]
     },
     "metadata": {
      "needs_background": "light"
     },
     "output_type": "display_data"
    }
   ],
   "source": [
    "plt.scatter(sc_x.inverse_transform(x_train), sc_y.inverse_transform(y_train), color = 'red')\n",
    "plt.plot(sc_x.inverse_transform(x_test),sc_y.inverse_transform(reg.predict(x_test).reshape(-1, 1)) , color = 'blue')\n",
    "plt.title('SVR')\n",
    "plt.xlabel('Age')\n",
    "plt.ylabel('Weight')\n",
    "plt.show()"
   ]
  },
  {
   "cell_type": "code",
   "execution_count": 25,
   "id": "6cf0605e",
   "metadata": {},
   "outputs": [
    {
     "name": "stdout",
     "output_type": "stream",
     "text": [
      "[[146.   146.71]\n",
      " [138.   140.76]\n",
      " [168.   167.37]\n",
      " [139.   139.86]\n",
      " [175.   177.98]\n",
      " [144.   144.44]\n",
      " [141.   140.79]\n",
      " [152.   153.81]\n",
      " [165.   163.69]\n",
      " [142.   141.53]\n",
      " [150.   152.47]\n",
      " [141.   140.49]\n",
      " [190.   191.54]\n",
      " [139.   139.85]\n",
      " [172.   173.97]]\n"
     ]
    }
   ],
   "source": [
    "np.set_printoptions(precision = 2) # for printing only upto 2 decimal places\n",
    "y_pred = sc_y.inverse_transform(reg.predict(x_test).reshape(-1,1))\n",
    "print(np.concatenate((y_test.reshape(len(y_test), 1), y_pred.reshape(len(y_pred), 1)), 1))"
   ]
  },
  {
   "cell_type": "code",
   "execution_count": 26,
   "id": "8f25256e",
   "metadata": {},
   "outputs": [],
   "source": [
    "z = 16\n",
    "z = np.array(z).reshape(-1, 1)"
   ]
  },
  {
   "cell_type": "code",
   "execution_count": 16,
   "id": "5242047e",
   "metadata": {},
   "outputs": [
    {
     "data": {
      "text/plain": [
       "array([[165.99]])"
      ]
     },
     "execution_count": 16,
     "metadata": {},
     "output_type": "execute_result"
    }
   ],
   "source": [
    "sc_y.inverse_transform(reg.predict(z).reshape(-1,1))"
   ]
  },
  {
   "cell_type": "code",
   "execution_count": 27,
   "id": "1ade790a",
   "metadata": {},
   "outputs": [
    {
     "data": {
      "text/plain": [
       "0.9901261742130403"
      ]
     },
     "execution_count": 27,
     "metadata": {},
     "output_type": "execute_result"
    }
   ],
   "source": [
    "from sklearn.metrics import r2_score\n",
    "r2_score(y_test, y_pred)"
   ]
  },
  {
   "cell_type": "code",
   "execution_count": 28,
   "id": "9a0a9498",
   "metadata": {},
   "outputs": [
    {
     "data": {
      "text/plain": [
       "(array([146, 138, 168, 139, 175, 144, 141, 152, 165, 142, 150, 141, 190,\n",
       "        139, 172], dtype=int64),\n",
       " array([[146.71],\n",
       "        [140.76],\n",
       "        [167.37],\n",
       "        [139.86],\n",
       "        [177.98],\n",
       "        [144.44],\n",
       "        [140.79],\n",
       "        [153.81],\n",
       "        [163.69],\n",
       "        [141.53],\n",
       "        [152.47],\n",
       "        [140.49],\n",
       "        [191.54],\n",
       "        [139.85],\n",
       "        [173.97]]))"
      ]
     },
     "execution_count": 28,
     "metadata": {},
     "output_type": "execute_result"
    }
   ],
   "source": [
    "y_test, y_pred"
   ]
  }
 ],
 "metadata": {
  "kernelspec": {
   "display_name": "Python 3 (ipykernel)",
   "language": "python",
   "name": "python3"
  },
  "language_info": {
   "codemirror_mode": {
    "name": "ipython",
    "version": 3
   },
   "file_extension": ".py",
   "mimetype": "text/x-python",
   "name": "python",
   "nbconvert_exporter": "python",
   "pygments_lexer": "ipython3",
   "version": "3.9.7"
  }
 },
 "nbformat": 4,
 "nbformat_minor": 5
}
