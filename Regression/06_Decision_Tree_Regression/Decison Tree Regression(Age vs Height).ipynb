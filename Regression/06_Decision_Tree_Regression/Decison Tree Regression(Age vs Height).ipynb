{
 "cells": [
  {
   "cell_type": "code",
   "execution_count": 1,
   "id": "2d5d9a3a",
   "metadata": {},
   "outputs": [],
   "source": [
    "import pandas as pd\n",
    "import numpy as np\n",
    "import matplotlib.pyplot as plt"
   ]
  },
  {
   "cell_type": "code",
   "execution_count": 2,
   "id": "fe0c1526",
   "metadata": {},
   "outputs": [],
   "source": [
    "data = pd.read_csv(r\"C:\\Users\\sisir.sahu\\Downloads\\Sisir's macbook\\Self Learning2\\Machine Learning\\Kaggle Practice\\6. Decision Tree Regression\\age_height.csv\")\n"
   ]
  },
  {
   "cell_type": "code",
   "execution_count": 3,
   "id": "49d53dc2",
   "metadata": {},
   "outputs": [
    {
     "data": {
      "text/html": [
       "<div>\n",
       "<style scoped>\n",
       "    .dataframe tbody tr th:only-of-type {\n",
       "        vertical-align: middle;\n",
       "    }\n",
       "\n",
       "    .dataframe tbody tr th {\n",
       "        vertical-align: top;\n",
       "    }\n",
       "\n",
       "    .dataframe thead th {\n",
       "        text-align: right;\n",
       "    }\n",
       "</style>\n",
       "<table border=\"1\" class=\"dataframe\">\n",
       "  <thead>\n",
       "    <tr style=\"text-align: right;\">\n",
       "      <th></th>\n",
       "      <th>Age</th>\n",
       "      <th>Height</th>\n",
       "    </tr>\n",
       "  </thead>\n",
       "  <tbody>\n",
       "    <tr>\n",
       "      <th>0</th>\n",
       "      <td>10</td>\n",
       "      <td>138</td>\n",
       "    </tr>\n",
       "    <tr>\n",
       "      <th>1</th>\n",
       "      <td>11</td>\n",
       "      <td>138</td>\n",
       "    </tr>\n",
       "    <tr>\n",
       "      <th>2</th>\n",
       "      <td>12</td>\n",
       "      <td>138</td>\n",
       "    </tr>\n",
       "    <tr>\n",
       "      <th>3</th>\n",
       "      <td>13</td>\n",
       "      <td>139</td>\n",
       "    </tr>\n",
       "    <tr>\n",
       "      <th>4</th>\n",
       "      <td>14</td>\n",
       "      <td>139</td>\n",
       "    </tr>\n",
       "  </tbody>\n",
       "</table>\n",
       "</div>"
      ],
      "text/plain": [
       "   Age  Height\n",
       "0   10     138\n",
       "1   11     138\n",
       "2   12     138\n",
       "3   13     139\n",
       "4   14     139"
      ]
     },
     "execution_count": 3,
     "metadata": {},
     "output_type": "execute_result"
    }
   ],
   "source": [
    "data.head()"
   ]
  },
  {
   "cell_type": "code",
   "execution_count": 5,
   "id": "dcc932bf",
   "metadata": {},
   "outputs": [
    {
     "data": {
      "text/plain": [
       "(71, 2)"
      ]
     },
     "execution_count": 5,
     "metadata": {},
     "output_type": "execute_result"
    }
   ],
   "source": [
    "data.shape"
   ]
  },
  {
   "cell_type": "code",
   "execution_count": 33,
   "id": "fe1bf964",
   "metadata": {},
   "outputs": [],
   "source": [
    "#split data into x and y\n",
    "x = data.loc[:, 'Age'].values.reshape(-1, 1)\n",
    "y = data.loc[:, 'Height'].values.reshape(-1, 1)\n",
    "\n",
    "#reshape(-1,1) doesnt alter the rows, It keeps them as it is 71 and adds a column to make it look 2D"
   ]
  },
  {
   "cell_type": "code",
   "execution_count": 34,
   "id": "1225b856",
   "metadata": {},
   "outputs": [
    {
     "data": {
      "text/plain": [
       "array([[10],\n",
       "       [11],\n",
       "       [12],\n",
       "       [13],\n",
       "       [14],\n",
       "       [15],\n",
       "       [16],\n",
       "       [17],\n",
       "       [18],\n",
       "       [19],\n",
       "       [20],\n",
       "       [21],\n",
       "       [22],\n",
       "       [23],\n",
       "       [24],\n",
       "       [25],\n",
       "       [26],\n",
       "       [27],\n",
       "       [28],\n",
       "       [29],\n",
       "       [30],\n",
       "       [31],\n",
       "       [32],\n",
       "       [33],\n",
       "       [34],\n",
       "       [35],\n",
       "       [36],\n",
       "       [37],\n",
       "       [38],\n",
       "       [39],\n",
       "       [40],\n",
       "       [41],\n",
       "       [42],\n",
       "       [43],\n",
       "       [44],\n",
       "       [45],\n",
       "       [46],\n",
       "       [47],\n",
       "       [48],\n",
       "       [49],\n",
       "       [50],\n",
       "       [51],\n",
       "       [52],\n",
       "       [53],\n",
       "       [54],\n",
       "       [55],\n",
       "       [56],\n",
       "       [57],\n",
       "       [58],\n",
       "       [59],\n",
       "       [60],\n",
       "       [61],\n",
       "       [62],\n",
       "       [63],\n",
       "       [64],\n",
       "       [65],\n",
       "       [66],\n",
       "       [67],\n",
       "       [68],\n",
       "       [69],\n",
       "       [70],\n",
       "       [71],\n",
       "       [72],\n",
       "       [73],\n",
       "       [74],\n",
       "       [75],\n",
       "       [76],\n",
       "       [77],\n",
       "       [78],\n",
       "       [79],\n",
       "       [80]], dtype=int64)"
      ]
     },
     "execution_count": 34,
     "metadata": {},
     "output_type": "execute_result"
    }
   ],
   "source": [
    "x"
   ]
  },
  {
   "cell_type": "code",
   "execution_count": 35,
   "id": "4369f0f2",
   "metadata": {},
   "outputs": [
    {
     "data": {
      "text/plain": [
       "array([[138],\n",
       "       [138],\n",
       "       [138],\n",
       "       [139],\n",
       "       [139],\n",
       "       [139],\n",
       "       [140],\n",
       "       [140],\n",
       "       [140],\n",
       "       [141],\n",
       "       [141],\n",
       "       [141],\n",
       "       [142],\n",
       "       [142],\n",
       "       [142],\n",
       "       [143],\n",
       "       [143],\n",
       "       [143],\n",
       "       [144],\n",
       "       [144],\n",
       "       [145],\n",
       "       [145],\n",
       "       [146],\n",
       "       [146],\n",
       "       [147],\n",
       "       [147],\n",
       "       [148],\n",
       "       [148],\n",
       "       [149],\n",
       "       [149],\n",
       "       [150],\n",
       "       [150],\n",
       "       [151],\n",
       "       [152],\n",
       "       [153],\n",
       "       [155],\n",
       "       [156],\n",
       "       [157],\n",
       "       [158],\n",
       "       [159],\n",
       "       [160],\n",
       "       [161],\n",
       "       [162],\n",
       "       [163],\n",
       "       [164],\n",
       "       [164],\n",
       "       [165],\n",
       "       [166],\n",
       "       [167],\n",
       "       [168],\n",
       "       [169],\n",
       "       [170],\n",
       "       [171],\n",
       "       [172],\n",
       "       [173],\n",
       "       [175],\n",
       "       [178],\n",
       "       [180],\n",
       "       [183],\n",
       "       [185],\n",
       "       [188],\n",
       "       [190],\n",
       "       [193],\n",
       "       [195],\n",
       "       [199],\n",
       "       [203],\n",
       "       [204],\n",
       "       [205],\n",
       "       [206],\n",
       "       [207],\n",
       "       [208]], dtype=int64)"
      ]
     },
     "execution_count": 35,
     "metadata": {},
     "output_type": "execute_result"
    }
   ],
   "source": [
    "y"
   ]
  },
  {
   "cell_type": "code",
   "execution_count": 36,
   "id": "df5c8009",
   "metadata": {},
   "outputs": [
    {
     "data": {
      "text/plain": [
       "(71, 1)"
      ]
     },
     "execution_count": 36,
     "metadata": {},
     "output_type": "execute_result"
    }
   ],
   "source": [
    "x.shape"
   ]
  },
  {
   "cell_type": "code",
   "execution_count": 37,
   "id": "d9ad02ec",
   "metadata": {},
   "outputs": [
    {
     "data": {
      "text/plain": [
       "(71, 1)"
      ]
     },
     "execution_count": 37,
     "metadata": {},
     "output_type": "execute_result"
    }
   ],
   "source": [
    "y.shape"
   ]
  },
  {
   "cell_type": "code",
   "execution_count": 38,
   "id": "7f1639b1",
   "metadata": {},
   "outputs": [],
   "source": [
    "#train test data\n",
    "from sklearn.model_selection import train_test_split\n",
    "x_train, x_test, y_train, y_test = train_test_split(x, y, test_size = 0.2, random_state = 42)"
   ]
  },
  {
   "cell_type": "code",
   "execution_count": 39,
   "id": "729ca157",
   "metadata": {},
   "outputs": [
    {
     "data": {
      "text/plain": [
       "array([[40],\n",
       "       [69],\n",
       "       [45],\n",
       "       [68],\n",
       "       [52],\n",
       "       [26],\n",
       "       [44],\n",
       "       [54],\n",
       "       [38],\n",
       "       [17],\n",
       "       [64],\n",
       "       [60],\n",
       "       [55],\n",
       "       [57],\n",
       "       [29],\n",
       "       [67],\n",
       "       [50],\n",
       "       [35],\n",
       "       [49],\n",
       "       [23],\n",
       "       [80],\n",
       "       [13],\n",
       "       [27],\n",
       "       [48],\n",
       "       [18],\n",
       "       [66],\n",
       "       [16],\n",
       "       [46],\n",
       "       [75],\n",
       "       [73],\n",
       "       [79],\n",
       "       [25],\n",
       "       [37],\n",
       "       [51],\n",
       "       [36],\n",
       "       [58],\n",
       "       [34],\n",
       "       [78],\n",
       "       [74],\n",
       "       [21],\n",
       "       [42],\n",
       "       [77],\n",
       "       [72],\n",
       "       [47],\n",
       "       [39],\n",
       "       [53],\n",
       "       [76],\n",
       "       [11],\n",
       "       [62],\n",
       "       [31],\n",
       "       [12],\n",
       "       [33],\n",
       "       [30],\n",
       "       [70],\n",
       "       [24],\n",
       "       [61]], dtype=int64)"
      ]
     },
     "execution_count": 39,
     "metadata": {},
     "output_type": "execute_result"
    }
   ],
   "source": [
    "x_train"
   ]
  },
  {
   "cell_type": "code",
   "execution_count": 40,
   "id": "55e04bbf",
   "metadata": {},
   "outputs": [],
   "source": [
    "#scaling is not required in tree based algorithms\n",
    "#import decision tree regressor \n",
    "from sklearn.tree import DecisionTreeRegressor"
   ]
  },
  {
   "cell_type": "code",
   "execution_count": 42,
   "id": "ece24a2f",
   "metadata": {},
   "outputs": [],
   "source": [
    "#create decision tree regressor object\n",
    "dt_reg = DecisionTreeRegressor()"
   ]
  },
  {
   "cell_type": "code",
   "execution_count": 43,
   "id": "fc8407ab",
   "metadata": {},
   "outputs": [
    {
     "data": {
      "text/plain": [
       "DecisionTreeRegressor()"
      ]
     },
     "execution_count": 43,
     "metadata": {},
     "output_type": "execute_result"
    }
   ],
   "source": [
    "#Fit the decision tree regressor with training data represented by X_train and y_train\n",
    "dt_reg.fit(x_train, y_train)"
   ]
  },
  {
   "cell_type": "code",
   "execution_count": 44,
   "id": "20ee9c18",
   "metadata": {},
   "outputs": [],
   "source": [
    "y_pred = dt_reg.predict(x_test)"
   ]
  },
  {
   "cell_type": "code",
   "execution_count": 45,
   "id": "a7a19929",
   "metadata": {},
   "outputs": [
    {
     "name": "stdout",
     "output_type": "stream",
     "text": [
      "R-Square Error associated with Decision Tree Regression is: 0.9954615028654825\n"
     ]
    }
   ],
   "source": [
    "#Model Evaluation using R-Square for Decision Tree Regression\n",
    "from sklearn import metrics\n",
    "r_square = metrics.r2_score(y_test, y_pred)\n",
    "print('R-Square Error associated with Decision Tree Regression is:', r_square)"
   ]
  },
  {
   "cell_type": "code",
   "execution_count": 46,
   "id": "8074f505",
   "metadata": {},
   "outputs": [],
   "source": [
    "#create dummy variables from x_train\n",
    "x_val = np.arange(min(x_train), max(x_train), 0.01)\n",
    "x_val = x_val.reshape(-1,1)"
   ]
  },
  {
   "cell_type": "code",
   "execution_count": 53,
   "id": "5a813ab8",
   "metadata": {},
   "outputs": [
    {
     "data": {
      "image/png": "[encoded data removed]",
      "text/plain": [
       "<Figure size 432x288 with 1 Axes>"
      ]
     },
     "metadata": {
      "needs_background": "light"
     },
     "output_type": "display_data"
    },
    {
     "data": {
      "text/plain": [
       "<Figure size 468x432 with 0 Axes>"
      ]
     },
     "metadata": {},
     "output_type": "display_data"
    }
   ],
   "source": [
    "#Visualise decision tree\n",
    "plt.scatter(x_train, y_train, color = 'blue', marker = 'o') \n",
    "plt.plot(x_val, dt_reg.predict(x_val), color = 'red')  \n",
    "fig = plt.figure() \n",
    "# Figure size\n",
    "fig.set_size_inches(6.5, 6)\n",
    "plt.show()"
   ]
  },
  {
   "cell_type": "code",
   "execution_count": 58,
   "id": "9509e061",
   "metadata": {},
   "outputs": [
    {
     "name": "stdout",
     "output_type": "stream",
     "text": [
      "Predicted Height:  147\n"
     ]
    }
   ],
   "source": [
    "height_pred = dt_reg.predict([[35]])\n",
    "print(\"Predicted Height: % d\"% height_pred) "
   ]
  }
 ],
 "metadata": {
  "kernelspec": {
   "display_name": "Python 3 (ipykernel)",
   "language": "python",
   "name": "python3"
  },
  "language_info": {
   "codemirror_mode": {
    "name": "ipython",
    "version": 3
   },
   "file_extension": ".py",
   "mimetype": "text/x-python",
   "name": "python",
   "nbconvert_exporter": "python",
   "pygments_lexer": "ipython3",
   "version": "3.9.7"
  }
 },
 "nbformat": 4,
 "nbformat_minor": 5
}
